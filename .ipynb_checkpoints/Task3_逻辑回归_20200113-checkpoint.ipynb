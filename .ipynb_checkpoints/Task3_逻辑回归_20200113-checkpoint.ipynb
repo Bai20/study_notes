{
 "cells": [
  {
   "cell_type": "markdown",
   "metadata": {},
   "source": [
    "# 逻辑回归  \n",
    "\n",
    "1.逻辑回归与线性回归的联系与区别     \n",
    "2.逻辑回归的原理    \n",
    "3.逻辑回归损失函数推导及优化    \n",
    "4.正则化与模型评估指标    \n",
    "5.逻辑回归的优缺点    \n",
    "6.代码实现\n"
   ]
  },
  {
   "cell_type": "markdown",
   "metadata": {},
   "source": [
    "## 一、逻辑回归和线性回归的联系与区别  \n"
   ]
  },
  {
   "cell_type": "markdown",
   "metadata": {},
   "source": [
    "虽然逻辑回归能够用于分类，不过其本质还是线性回归。它仅在线性回归的基础上，在特征到结果的映射中加入了一层sigmoid函数（非线性）映射，即先把特征线性求和，然后使用sigmoid函数来预测。  \n",
    "\n",
    "这主要是由于线性回归在整个实数域内敏感度一致，而分类范围，需要在[0,1]之内。而逻辑回归就是一种减小预测范围，将预测值限定为[0,1]间的一种回归模型。逻辑曲线在z=0时，十分敏感，在z>>0或z<<0处，都不敏感，将预测值限定为(0,1)。\n",
    "\n",
    "  1.逻辑回归在线性回归的实数范围输出值上施加sigmoid函数将值收敛到0~1范围, 其目标函数也因此从差平方和函数变为对数损失函数, 以提供最优化所需导数（sigmoid函数是softmax函数的二元特例, 其导数均为函数值的f*(1-f)形式）。请注意, LR往往是解决二元0/1分类问题的, 只是它和线性回归耦合太紧, 不自觉也冠了个回归的名字。若要求多元分类,就要把sigmoid换成softmax了。\n",
    "\n",
    "  2.首先逻辑回归和线性回归首先都是广义的线性回归，其次经典线性模型的优化目标函数是最小二乘，而逻辑回归则是似然函数，另外线性回归在整个实数域范围内进行预测，敏感度一致，而分类范围，需要在[0,1]。逻辑回归就是一种减小预测范围，将预测值限定为[0,1]间的一种回归模型，因而对于这类问题来说，逻辑回归的鲁棒性比线性回归的要好。\n",
    "\n",
    "  3.逻辑回归的模型本质上是一个线性回归模型，逻辑回归都是以线性回归为理论支持的。但线性回归模型无法做到sigmoid的非线性形式，sigmoid可以轻松处理0/1分类问题。\n"
   ]
  },
  {
   "cell_type": "markdown",
   "metadata": {},
   "source": [
    "## 二、逻辑回归的原理  \n"
   ]
  },
  {
   "cell_type": "markdown",
   "metadata": {},
   "source": [
    "监督学习，解决二分类问题。\n",
    "\n",
    "分类的本质：在空间中找到一个决策边界来完成分类的决策。\n",
    "\n",
    "逻辑回归：线性回归可以预测连续值，但是不能解决分类问题，我们需要根据预测的结果判定其属于正类还是负类。所以逻辑回归就是将线性回归的(−∞,+∞)结果，通过sigmoid函数映射到(0,1)之间。\n",
    "\n",
    "线性回归决策函数：$$h_{\\theta}(x)=\\theta^Tx$$\n",
    "\n",
    "将其通过sigmoid函数，获得逻辑回归的决策函数：\n",
    "$$h_{\\theta}(x)=\\frac{1}{1+e^{-\\theta^Tx}}$$\n",
    "\n"
   ]
  },
  {
   "cell_type": "markdown",
   "metadata": {},
   "source": [
    "为什么使用sigmoid函数？  \n",
    "（1）可以对(−∞,+∞)结果，映射到(0,1)之间，作为概率。  \n",
    "（2）$x<0,sigmoid(x)<\\frac{1}{2}$;$x>0,sigmoid(x)>\\frac{1}{2}$,可以将$\\frac{1}{2}$作为决策的边界。   \n",
    "（3）数学特性好，求导容易：g′(z)=g(z)⋅(1−g(z))"
   ]
  },
  {
   "cell_type": "markdown",
   "metadata": {},
   "source": [
    "## 三、逻辑回归损失函数"
   ]
  },
  {
   "cell_type": "markdown",
   "metadata": {},
   "source": [
    "线性回归的损失函数为平方损失函数，如果将其用于逻辑回归的损失函数，则其数学特性不好，有很多局部极小值，难以用梯度下降法求最优。  \n",
    "线性回归的平方损失函数：$J(\\theta) = -\\frac{1}{m}\\sum^{m}_{i=1}\\frac{1}{2} (h_\\theta (x^{(i)})-y^{(i)})^2$\n",
    "\n",
    "对数损失函数是这样的：if y=1,$cost(h_\\theta (x),y)=-log(h_\\theta (x))$  \n",
    "                     if y=0,$cost(h_\\theta (x),y)=-log(1-h_\\theta (x))$ \n",
    "                     \n",
    "如果一个样本为正样本，那么我们希望将其预测为正样本的概率p越大越好，也就是决策函数的值越大越好，则logp越大越好，逻辑回归的决策函数值就是样本为正的概率；\n",
    "如果一个样本为负样本，那么我们希望将其预测为负样本的概率越大越好，也就是(1-p)越大越好，即log(1-p)越大越好。  \n",
    "为什么要用log？  \n",
    "这是因为样本集中有很多样本，要求其概率连乘，概率为(0,1)间的数，连乘越来越小，利用log变换将其变为连加，不会溢出，不会超出计算精度。\n",
    "\n",
    "逻辑回归的对数损失函数：  \n",
    "$$\n",
    "J(\\theta) = -\\frac{1}{m}\\sum^{m}_{i=1} y^{(i)}h_\\theta (x^{(i)}) + (1-y^{(i)})(1-h_\\theta (x^{(i)}))\n",
    "$$  \n",
    "损失函数表示了预测值和真实值之间的差异程度，预测值和真实值越接近，则损失函数越小。"
   ]
  },
  {
   "cell_type": "markdown",
   "metadata": {},
   "source": [
    "## 四、正则化与模型评估指标"
   ]
  },
  {
   "cell_type": "markdown",
   "metadata": {},
   "source": [
    "### (一)关于正则化：\n",
    "\n",
    "机器学习中经常会在损失函数中加入正则项，称之为正则化（Regularize）。  \n",
    "目的是为了防止模型过拟合；  \n",
    "原理，在损失函数上加上某些规则（限制），缩小解空间，从而减少求出过拟合解的可能性。  \n",
    "\n",
    "目标函数＝损失函数+正则项。正则化函数，即$\\theta$的惩罚项。  \n",
    "那么线性模型的目标函数就是  $-\\frac{1}{2}\\sum^{N}_{i=1}{y_i-\\theta^T\\phi(x_i)}^2 + -\\frac{\\lambda}{2}\\theta^T\\theta  $ ，然后通过令目标函数的导数为0，来计算参数。  \n",
    "\n",
    "正则化有多种方式，包括L0（向量中非零元素个数），L1（向量中元素绝对值之和），L2（向量的模）。\n"
   ]
  },
  {
   "cell_type": "markdown",
   "metadata": {},
   "source": [
    "#### L1正则化  \n",
    "\n",
    "$$\n",
    "J(\\theta) =\\frac{1}{m}\\sum^{m}_{i=1} y^{(i)}h_\\theta (x^{(i)}) + (1-y^{(i)})(1-h_\\theta (x^{(i)})) + \\frac{\\lambda}{m\n",
    "}\\sum^m_{i=1}|\\theta_i|\n",
    "$$"
   ]
  },
  {
   "cell_type": "markdown",
   "metadata": {},
   "source": [
    "$$\n",
    "\\Delta_{\\theta_i} l(\\theta) = \\frac{1}{m}\\sum^m_{i=1}(y^{(i)} - h_\\theta (x^{(i)}))x^{(i)} + \\frac{\\lambda}{m}sgn(\\theta_i)\n",
    "$$"
   ]
  },
  {
   "cell_type": "markdown",
   "metadata": {},
   "source": [
    "梯度下降法的迭代函数变为,  \n",
    "$$\\theta:=\\theta-K'(\\theta)-\\frac{\\lambda}{m}sgn(\\theta)$$  \n",
    "$K(\\theta)$为原来的损失函数，由于最后一项的符号由$\\theta$决定，可以看到，当$\\theta$大于零时，更新后的$\\theta$变小；当$\\theta$小于零时，更新后的$\\theta$变大。因此，L1正则化调整后的结果会更加稀疏（结果向量中有更多的0值）。"
   ]
  },
  {
   "cell_type": "markdown",
   "metadata": {},
   "source": [
    "#### L2正则化  "
   ]
  },
  {
   "cell_type": "markdown",
   "metadata": {},
   "source": [
    "$$\n",
    "J(\\theta) =\\frac{1}{m}\\sum^{m}_{i=1} y^{(i)}h_\\theta (x^{(i)}) + (1-y^{(i)})(1-h_\\theta (x^{(i)})) + \\frac{\\lambda}{2m}\\sum^m_{i=1}\\theta_i^2\n",
    "$$\n",
    "$$\n",
    "\\Delta_{\\theta_i} l(\\theta) = \\frac{1}{m}\\sum^m_{i=1}(y^{(i)} - h_\\theta (x^{(i)}))x^{(i)} + \\frac{\\lambda}{m}\\theta_i\n",
    "$$"
   ]
  },
  {
   "cell_type": "markdown",
   "metadata": {},
   "source": [
    "梯度下降法的迭代函数变为,  \n",
    "$$\\theta:=\\theta-K'(\\theta)-\\frac{2\\lambda}{m}\\theta$$  \n",
    "$K(\\theta)$为原来的损失函数，最有一项的$\\lambda$决定了对参数的惩罚力度，惩罚力度越大，最后的结果向量的参数普遍较小且分散，避免了个别参数对整个函数起较大的影响。"
   ]
  },
  {
   "cell_type": "markdown",
   "metadata": {},
   "source": [
    "### (二)模型评估指标：  \n",
    "\n",
    "\n"
   ]
  },
  {
   "cell_type": "markdown",
   "metadata": {},
   "source": [
    "由于逻辑回归模型属于分类模型，不能用线性回归的评价指标。 二元分类的评价指标基本都适用于逻辑回归。    \n",
    "我们可以用查准率和查全率来评价预测结果：\n",
    "* 查准率 $P =\\frac{TP}{TP+FP}$ \n",
    "* 查全率 $R =\\frac{TP}{TP+FN}$  \n",
    "查准率（precision）（正确率）：检索出来的条目有多少是正确的。  \n",
    "查全率（recall）（查全率）：所有正确条目有多少被检索出来了。    \n",
    "为了综合查准率与查全率，一种方法是计算F1值（F1 Score）。F1是精度和召回率的调和均值。即  \n",
    "$$ F1=\\frac{2}{\\frac{1}{P}+\\frac{1}{R}}=2*\\frac{PR}{R+P} $$  \n",
    "\n",
    "AUC值的计算。  \n",
    "$$AUC = \\frac{1}{2}\\sum^{m-1}_{i=1}(x_{i+1}-x_i) \\cdot(y_i + y_{i+1})$$"
   ]
  },
  {
   "cell_type": "markdown",
   "metadata": {},
   "source": [
    "## 五、逻辑回归的优缺点"
   ]
  },
  {
   "cell_type": "markdown",
   "metadata": {},
   "source": [
    "优点：  \n",
    "（1）从上面介绍已经可以额看到，逻辑回归的思想简洁，可以很好的解决二问题。  \n",
    "（2）可解释性高，工业中可控度高。训练快，feature engineering之后效果会更好。  \n",
    "缺点：  \n",
    "（1）因为预测结果呈Z字型（或反Z字型），因此当数据集中在中间区域时，对概率的变化会很敏感，可能使得预测结果缺乏区分度。  \n",
    "（2）由于逻辑回归依然是线性划分，对于非线性的数据集适应性弱。  \n",
    "（3）当特征空间很大，性能欠佳。  \n",
    "（4）只能处理两分类问题。  "
   ]
  },
  {
   "cell_type": "markdown",
   "metadata": {},
   "source": [
    "# 六、代码实现"
   ]
  },
  {
   "cell_type": "markdown",
   "metadata": {},
   "source": [
    "#### 1、先尝试调用sklearn的线性回归模型训练数据，尝试以下代码，画图查看分类的结果"
   ]
  },
  {
   "cell_type": "code",
   "execution_count": 1,
   "metadata": {},
   "outputs": [],
   "source": [
    "import numpy as np\n",
    "import pandas as pd\n",
    "import matplotlib.pyplot as plt\n",
    "\n",
    "%matplotlib inline"
   ]
  },
  {
   "cell_type": "code",
   "execution_count": 2,
   "metadata": {},
   "outputs": [],
   "source": [
    "df_X = pd.read_csv('./logistic_x.txt', sep='\\ +',header=None, engine='python') #读取X值\n",
    "ys = pd.read_csv('./logistic_y.txt', sep='\\ +',header=None, engine='python') #读取y值\n",
    "ys = ys.astype(int)\n",
    "df_X['label'] = ys[0].values #将X按照y值的结果一一打标签"
   ]
  },
  {
   "cell_type": "code",
   "execution_count": 3,
   "metadata": {},
   "outputs": [
    {
     "data": {
      "text/plain": [
       "<matplotlib.axes._subplots.AxesSubplot at 0x11a9fbb50>"
      ]
     },
     "execution_count": 3,
     "metadata": {},
     "output_type": "execute_result"
    },
    {
     "data": {
      "image/png": "[encoded data removed]",
      "text/plain": [
       "<Figure size 432x288 with 1 Axes>"
      ]
     },
     "metadata": {
      "needs_background": "light"
     },
     "output_type": "display_data"
    }
   ],
   "source": [
    "ax = plt.axes()\n",
    "#在二维图中描绘X点所处位置，直观查看数据点的分布情况\n",
    "df_X.query('label == 0').plot.scatter(x=0, y=1, ax=ax, color='blue')\n",
    "df_X.query('label == 1').plot.scatter(x=0, y=1, ax=ax, color='red')"
   ]
  },
  {
   "cell_type": "code",
   "execution_count": 4,
   "metadata": {},
   "outputs": [],
   "source": [
    "#提取用于学习的数据\n",
    "Xs = df_X[[0, 1]].values\n",
    "Xs = np.hstack([np.ones((Xs.shape[0], 1)), Xs]) \n",
    "ys = df_X['label'].values"
   ]
  },
  {
   "cell_type": "code",
   "execution_count": 5,
   "metadata": {},
   "outputs": [
    {
     "name": "stdout",
     "output_type": "stream",
     "text": [
      "Coefficient: [[-1.70090714  0.55446484  1.07222372]]\n",
      "Score: 0.898989898989899\n"
     ]
    },
    {
     "name": "stderr",
     "output_type": "stream",
     "text": [
      "/opt/anaconda3/lib/python3.7/site-packages/sklearn/linear_model/logistic.py:432: FutureWarning: Default solver will be changed to 'lbfgs' in 0.22. Specify a solver to silence this warning.\n",
      "  FutureWarning)\n"
     ]
    }
   ],
   "source": [
    "from __future__ import print_function\n",
    "import numpy as np\n",
    "from sklearn.linear_model import LogisticRegression\n",
    "\n",
    "lr = LogisticRegression(fit_intercept=False) #因为前面已经将截距项的值合并到变量中，此处参数设置不需要截距项\n",
    "lr.fit(Xs, ys) #拟合\n",
    "score = lr.score(Xs, ys) #结果评价\n",
    "print(\"Coefficient: %s\" % lr.coef_)\n",
    "print(\"Score: %s\" % score)"
   ]
  },
  {
   "cell_type": "code",
   "execution_count": 6,
   "metadata": {},
   "outputs": [
    {
     "data": {
      "text/plain": [
       "[<matplotlib.lines.Line2D at 0x1a1dd9bd90>]"
      ]
     },
     "execution_count": 6,
     "metadata": {},
     "output_type": "execute_result"
    },
    {
     "data": {
      "image/png": "[encoded data removed]",
      "text/plain": [
       "<Figure size 432x288 with 1 Axes>"
      ]
     },
     "metadata": {
      "needs_background": "light"
     },
     "output_type": "display_data"
    }
   ],
   "source": [
    "ax = plt.axes()\n",
    "\n",
    "df_X.query('label == 0').plot.scatter(x=0, y=1, ax=ax, color='blue')\n",
    "df_X.query('label == 1').plot.scatter(x=0, y=1, ax=ax, color='red')\n",
    "\n",
    "_xs = np.array([np.min(Xs[:,1]), np.max(Xs[:,1])])\n",
    "\n",
    "#将数据以二维图形式描点，并用学习得出的参数结果作为阈值，划分数据区域\n",
    "_ys = (lr.coef_[0][0] + lr.coef_[0][1] * _xs) / (- lr.coef_[0][2])\n",
    "plt.plot(_xs, _ys, lw=1)"
   ]
  },
  {
   "cell_type": "markdown",
   "metadata": {},
   "source": [
    "#### 2 用梯度下降法将相同的数据分类，画图和sklearn的结果相比较"
   ]
  },
  {
   "cell_type": "code",
   "execution_count": 16,
   "metadata": {},
   "outputs": [
    {
     "data": {
      "image/png": "[encoded data removed]",
      "text/plain": [
       "<Figure size 432x288 with 1 Axes>"
      ]
     },
     "metadata": {
      "needs_background": "light"
     },
     "output_type": "display_data"
    }
   ],
   "source": [
    "class LGR_GD():\n",
    "    def __init__(self):\n",
    "        self.w = None \n",
    "        self.n_iters = None\n",
    "    def fit(self,X,y,alpha=0.002,loss = 1e-10): # 设定步长为0.002，判断是否收敛的条件为1e-10\n",
    "        y = y.reshape(-1,1) #重塑y值的维度以便矩阵运算\n",
    "        [m,d] = np.shape(X) #自变量的维度\n",
    "        self.w = np.zeros((1,d)) #将参数的初始值定为0\n",
    "        tol = 1e5\n",
    "        self.n_iters = 0\n",
    "        #============================= show me your code =======================\n",
    "        while tol > loss: #设置收敛条件\n",
    "            zs = X.dot(self.w.T)\n",
    "            h_f = 1 / (1 + np.exp(-zs))\n",
    "            theta = self.w + alpha*np.mean(X*(y - h_f),axis = 0)\n",
    "            tol = np.sum(np.abs(theta - self.w))\n",
    "            self.w = theta\n",
    "            self.n_iters += 1 #更新迭代次数\n",
    "         #============================= show me your code =======================\n",
    "    def predict(self, X):\n",
    "        # 用已经拟合的参数值预测新自变量\n",
    "        y_pred = X.dot(self.w)\n",
    "        return y_pred  \n",
    "\n",
    "if __name__ == \"__main__\":\n",
    "    lr_gd = LGR_GD()\n",
    "    lr_gd.fit(Xs,ys)\n",
    "\n",
    "    ax = plt.axes()\n",
    "\n",
    "    df_X.query('label == 0').plot.scatter(x=0, y=1, ax=ax, color='blue')\n",
    "    df_X.query('label == 1').plot.scatter(x=0, y=1, ax=ax, color='red')\n",
    "\n",
    "    _xs = np.array([np.min(Xs[:,1]), np.max(Xs[:,1])])\n",
    "    _ys = (lr_gd.w[0][0] + lr_gd.w[0][1] * _xs) / (- lr_gd.w[0][2])\n",
    "    plt.plot(_xs, _ys, lw=1)"
   ]
  },
  {
   "cell_type": "markdown",
   "metadata": {},
   "source": [
    "#### 3 用牛顿法实现结果，画图和sklearn的结果相比较，并比较牛顿法和梯度下降法迭代收敛的次数"
   ]
  },
  {
   "cell_type": "code",
   "execution_count": 9,
   "metadata": {},
   "outputs": [],
   "source": [
    "class LGR_NT():\n",
    "    def __init__(self):\n",
    "        self.w = None\n",
    "        self.n_iters = None\n",
    "    def fit(self,X,y,loss = 1e-10): # 判断是否收敛的条件为1e-10\n",
    "        y = y.reshape(-1,1) #重塑y值的维度以便矩阵运算\n",
    "        [m,d] = np.shape(X) #自变量的维度\n",
    "        self.w = np.zeros((1,d)) #将参数的初始值定为0\n",
    "        tol = 1e5\n",
    "        n_iters =0\n",
    "        Hessian = np.zeros((d,d))\n",
    "        #============================= show me your code =======================\n",
    "        while tol > loss:\n",
    "            zs = X.dot(self.w.T)\n",
    "            h_f = 1 / (1 + np.exp(-zs))\n",
    "            grad = np.mean(X * (y - h_f), axis=0)\n",
    "            for i in range(d):\n",
    "                for j in range(d):\n",
    "                    if j >= i:\n",
    "                        Hessian[i][j] = np.mean(h_f * (h_f - 1) * X[:, i] * X[:, j])  # 更新海森矩阵中的值\n",
    "                    else:\n",
    "                        Hessian[i][j] = Hessian[j][i]  # 按海森矩阵的性质，对称点可直接得出结果\n",
    "            theta = self.w - np.linalg.inv(Hessian).dot(grad)\n",
    "            tol = np.sum(np.abs(theta - self.w))\n",
    "            self.w = theta\n",
    "            n_iters += 1\n",
    "        #============================= show me your code =======================\n",
    "        self.w = theta\n",
    "        self.n_iters = n_iters\n",
    "        \n",
    "    def predict(self, X):\n",
    "        # 用已经拟合的参数值预测新自变量\n",
    "        y_pred = X.dot(self.w)\n",
    "        return y_pred  \n",
    "\n",
    "if __name__ == \"__main__\":\n",
    "    lgr_nt = LGR_NT()\n",
    "    lgr_nt.fit(Xs,ys)"
   ]
  },
  {
   "cell_type": "code",
   "execution_count": 17,
   "metadata": {},
   "outputs": [
    {
     "name": "stdout",
     "output_type": "stream",
     "text": [
      "梯度下降法结果参数：[[-2.62050927  0.76037102  1.17194657]];梯度下降法迭代次数：407539\n",
      "牛顿法结果参数：[[-2.6205116   0.76037154  1.17194674]];牛顿法迭代次数：47\n"
     ]
    }
   ],
   "source": [
    "print(\"梯度下降法结果参数：%s;梯度下降法迭代次数：%s\" %(lr_gd.w,lr_gd.n_iters))\n",
    "print(\"牛顿法结果参数：%s;牛顿法迭代次数：%s\" %(lgr_nt.w,lgr_nt.n_iters))"
   ]
  },
  {
   "cell_type": "markdown",
   "metadata": {},
   "source": [
    "#### 参考  \n",
    "\n",
    "https://blog.csdn.net/jiaoyangwm/article/details/81139362"
   ]
  }
 ],
 "metadata": {
  "kernelspec": {
   "display_name": "Python 3",
   "language": "python",
   "name": "python3"
  },
  "language_info": {
   "codemirror_mode": {
    "name": "ipython",
    "version": 3
   },
   "file_extension": ".py",
   "mimetype": "text/x-python",
   "name": "python",
   "nbconvert_exporter": "python",
   "pygments_lexer": "ipython3",
   "version": "3.7.4"
  }
 },
 "nbformat": 4,
 "nbformat_minor": 2
}
